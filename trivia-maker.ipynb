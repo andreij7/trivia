{
 "cells": [
  {
   "cell_type": "markdown",
   "metadata": {},
   "source": [
    "# Article to Fill in the Blank"
   ]
  },
  {
   "cell_type": "markdown",
   "metadata": {},
   "source": [
    "### Step 1. Setup\n",
    "* imports \n",
    "* load english language library\n",
    "* Build list of stopwords.  Stopwords = words that dont add much meaning to a sentence\n",
    "* Load the text into spaCy NLP"
   ]
  },
  {
   "cell_type": "code",
   "execution_count": 1,
   "metadata": {},
   "outputs": [],
   "source": [
    "import spacy\n",
    "from spacy.lang.en.stop_words import STOP_WORDS\n",
    "from string import punctuation\n",
    "\n",
    "nlp = spacy.load(\"en_core_web_sm\")\n",
    "\n",
    "# Build a List of Stopwords\n",
    "stopwords = list(STOP_WORDS)\n",
    "\n",
    "text = \"The Cleveland Cavaliers have hired University of California, Berkeley womens basketball head coach Lindsay Gottlieb to be an assistant on first-year head coach John Beileins staff, the team announced Wednesday.\\n\\nIts a historic hire for the NBA, as Gottlieb is the first womens collegiate head coach to be recruited to a teams staff, according to ESPN.\\n\\nShe is expected to have a role comparable to only two female coaching peers in the league, per ESPN: San Antonio Spurs assistantBecky Hammon and formerSacramento Kings assistant Nancy Lieberman.\\n\\nThe vision for the Cavs future is compelling and I look forward to helping make it a reality, Gottlieb said in a statement.At the same time, on a personal level, I am honored to hopefully impact young girls and women to be empowered to pursue their own visions and to be inspired to turn them into reality as well.\\n\\n\\n\\nGottliebtook the Golden Bearsto the programs first-ever Elite Eight and Final Four in 2013 andled Cal to a combined 179-89 record during hereight years as head coach, including seven NCAA tournament appearances.\\n\\nBeilein, who was hired in May after 12 seasons as head coach at the University of Michigan, said Gottlieb truly values and embraces player development and a culture of winning basketball habits.\\n\\nHer success at Cal Berkeley speaks for itself and her insight in our meetings, practices and games will hold tremendous value. After sitting with her, it was easy to see how she will connect quickly with our staff and our players, and we all benefit because of that connection. Im looking forward to merging all of her years of experience and vision for the game with our current and future coaching staff.\\n\\nThe Cavaliers are coming off one of the worst seasons in franchise history, but they have some young, talented players to build around, as well as the fifth overall pick in the June 20 draft.\"\n",
    "text = text.rstrip()\n",
    "\n",
    "doc = nlp(text)"
   ]
  },
  {
   "cell_type": "markdown",
   "metadata": {},
   "source": [
    "### Step 2. Rank Sentences \n",
    "* rank sentences by word_frequencies (stop words not included)\n",
    "* take the 5 highest ranked sentences"
   ]
  },
  {
   "cell_type": "code",
   "execution_count": 5,
   "metadata": {},
   "outputs": [],
   "source": [
    "# Build Word Frequency\n",
    "# word.text is tokenization in spacy\n",
    "word_frequencies = {}\n",
    "for word in doc:\n",
    "    if word.text not in stopwords:\n",
    "            if word.text not in word_frequencies.keys():\n",
    "                word_frequencies[word.text] = 1\n",
    "            else:\n",
    "                word_frequencies[word.text] += 1\n",
    "                \n",
    "# Maximum Word Frequency\n",
    "maximum_frequency = max(word_frequencies.values())\n",
    "\n",
    "for word in word_frequencies.keys():  \n",
    "        word_frequencies[word] = (word_frequencies[word]/maximum_frequency)\n",
    "\n",
    "sentence_list = [ sentence for sentence in doc.sents ]\n",
    "\n",
    "# Sentence Score via comparrng each word with sentence\n",
    "sentence_scores = {}  \n",
    "for sent in sentence_list:  \n",
    "        for word in sent:\n",
    "            if word.text.lower() in word_frequencies.keys():\n",
    "                if len(sent.text.split(' ')) < 30:\n",
    "                    if sent not in sentence_scores.keys():\n",
    "                        sentence_scores[sent] = word_frequencies[word.text.lower()]\n",
    "                    else:\n",
    "                        sentence_scores[sent] += word_frequencies[word.text.lower()]\n",
    "\n",
    "from heapq import nlargest\n",
    "\n",
    "summarized_sentences = nlargest(5, sentence_scores, key=sentence_scores.get)"
   ]
  },
  {
   "cell_type": "markdown",
   "metadata": {},
   "source": [
    "# Step 3. Build Questions\n",
    "* group words into classes.  PEOPLE ORG etc.\n",
    "* transform each sentence into its fill in the blank version"
   ]
  },
  {
   "cell_type": "code",
   "execution_count": 8,
   "metadata": {},
   "outputs": [
    {
     "name": "stdout",
     "output_type": "stream",
     "text": [
      "{'Cal Berkeley': {'options': ['The Cleveland Cavaliers',\n",
      "                              'University of California, Berkeley',\n",
      "                              'NBA',\n",
      "                              'ESPN',\n",
      "                              'Cavs',\n",
      "                              'NCAA',\n",
      "                              'the University of Michigan',\n",
      "                              'Cal Berkeley'],\n",
      "                  'question': 'Her success at ____________ speaks for itself '\n",
      "                              'and her insight in our meetings, practices and '\n",
      "                              'games will hold tremendous value.'},\n",
      " 'Gottlieb': {'options': ['Lindsay Gottlieb',\n",
      "                          'John Beileins',\n",
      "                          'Spurs',\n",
      "                          'Hammon',\n",
      "                          'Nancy Lieberman',\n",
      "                          'Beilein'],\n",
      "              'question': 'The vision for the Cavs future is compelling and I '\n",
      "                          'look forward to helping make it a reality, ________ '\n",
      "                          'said in a statement.'},\n",
      " 'NBA': {'options': ['The Cleveland Cavaliers',\n",
      "                     'University of California, Berkeley',\n",
      "                     'NBA',\n",
      "                     'ESPN',\n",
      "                     'Cavs',\n",
      "                     'NCAA',\n",
      "                     'the University of Michigan',\n",
      "                     'Cal Berkeley'],\n",
      "         'question': 'Its a historic hire for the ___, as Gottlieb is the '\n",
      "                     'first womens collegiate head coach to be recruited to a '\n",
      "                     'teams staff, according to ESPN.\\n'\n",
      "                     '\\n'}}\n"
     ]
    }
   ],
   "source": [
    "options = set()\n",
    "\n",
    "optionsMap = {}\n",
    "\n",
    "for entity in doc.ents:\n",
    "    if(not options.__contains__(entity.text.lower())):\n",
    "        options.add(entity.text.lower())\n",
    "        if(entity.label_ in optionsMap):\n",
    "            optionsMap[entity.label_].append(entity.text)\n",
    "        else:\n",
    "            optionsMap[entity.label_] = [entity.text]\n",
    "\n",
    "final_sentences = [ w.text for w in summarized_sentences ]\n",
    "\n",
    "outputjson = {}\n",
    "\n",
    "count = 1\n",
    "for sentence in final_sentences:\n",
    "    count+=1\n",
    "    sent_doc = nlp(sentence)\n",
    "    isFull = True\n",
    "    for entity in sent_doc.ents:  \n",
    "        if(entity.label_ == 'PERSON') and isFull:\n",
    "            blank = ''\n",
    "            for count in range(len(entity.text)):\n",
    "                blank += '_'\n",
    "            \n",
    "            fullOptions = optionsMap[entity.label_]\n",
    "            outputjson[entity.text] = { 'question': sentence.replace(entity.text, blank, 1), 'options': fullOptions}\n",
    "            isFull = False\n",
    "    for entity in sent_doc.ents: \n",
    "        if(entity.label_ == 'ORG') and isFull:\n",
    "            blank = ''\n",
    "            for count in range(len(entity.text)):\n",
    "                blank += '_'\n",
    "            fullOptions = optionsMap[entity.label_]\n",
    "            outputjson[entity.text] = { 'question': sentence.replace(entity.text, blank, 1), 'options': fullOptions}\n",
    "            isFull = False\n",
    "\n",
    "import pprint\n",
    "pprint.pprint(outputjson)"
   ]
  },
  {
   "cell_type": "code",
   "execution_count": null,
   "metadata": {},
   "outputs": [],
   "source": []
  }
 ],
 "metadata": {
  "anaconda-cloud": {},
  "kernelspec": {
   "display_name": "Python 3",
   "language": "python",
   "name": "python3"
  },
  "language_info": {
   "codemirror_mode": {
    "name": "ipython",
    "version": 3
   },
   "file_extension": ".py",
   "mimetype": "text/x-python",
   "name": "python",
   "nbconvert_exporter": "python",
   "pygments_lexer": "ipython3",
   "version": "3.7.3"
  }
 },
 "nbformat": 4,
 "nbformat_minor": 1
}
