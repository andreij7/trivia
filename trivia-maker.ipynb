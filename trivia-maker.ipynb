{
 "cells": [
  {
   "cell_type": "markdown",
   "metadata": {},
   "source": [
    "# Article to Trivia"
   ]
  },
  {
   "cell_type": "markdown",
   "metadata": {},
   "source": [
    "### Step 1:  Use the following GraphQL query to get the full text of an article."
   ]
  },
  {
   "cell_type": "markdown",
   "metadata": {},
   "source": [
    "https://content-api.gannettdigital.com/graphiql?siteCode=USAT&type=asset&query=%7B%20asset%28id%3A%20%221365379001%22%29%20%7B%20...assetFields%20%7D%20%7D%20fragment%20assetFields%20on%20Asset%20%7B%20storyHighlights%20...%20on%20text%20%7B%20fullText%20%7D%20%7D%20"
   ]
  },
  {
   "cell_type": "markdown",
   "metadata": {
    "collapsed": true
   },
   "source": [
    "```\n",
    "{\n",
    "  asset(id: \"1365379001\") {\n",
    "    ...assetFields\n",
    "  }\n",
    "}\n",
    "\n",
    "fragment assetFields on Asset {\n",
    "  ... on text {\n",
    "    fullText\n",
    "  }\n",
    "}\n",
    "```"
   ]
  },
  {
   "cell_type": "markdown",
   "metadata": {
    "collapsed": true
   },
   "source": [
    "### Step 2: Use the copy the value of full text and use the following website to strip the HTML"
   ]
  },
  {
   "cell_type": "markdown",
   "metadata": {},
   "source": [
    "https://www.striphtml.com/"
   ]
  },
  {
   "cell_type": "markdown",
   "metadata": {},
   "source": [
    "### Step 3: Paste the result into the variable below and Run All"
   ]
  },
  {
   "cell_type": "code",
   "execution_count": 9,
   "metadata": {},
   "outputs": [],
   "source": [
    "text = \"\\n\\nWEST POINT, N.Y. A West Point cadet was killed and 20 cadets and two soldiers injured Thursday when a tactical vehicle overturned on a dirt road duringa summer training exercise, according to the U.S. Military Academy.\\n\\nArmyLt. Col. Christopher Ophardt, an academy spokesman, said theaccident occurred around6:45 a.m. near West Point when the Light Medium Tactical Vehicle rolled.\\n\\nOphardt could not provide the severity of the injuries or the name of cadet who died. The injured were taken to localhospitals.\\n\\nThe incident occurreda dirt road off Route 293 at Camp Natural Bridge, a cadet summer training site near the main campus of the military academy.\\n\\n\\n\\nNew York Gov. Andrew Cuomo issued a statement expressing his condolences for the cadet who died and those injured.He directedthe state Office of Emergency Management to provide any resources necessary to assist to assist West Points efforts.\\n\\nMy heart breaks for all those involved in the tragic training accident at West Point this morning, Cuomo said. These courageous cadets and soldiers represent the best of New York State and our country, and we owe them a debt of gratitude for their bravery in choosing to serve our country and protect our freedoms.\\n\\n\\n\\nCuomo said theincident is made all the more heart-wrenching as we commemorate the 75th anniversary of D-Day today, a day where we remember those who gave their lives for our country.\\n\\nWest Point is located on the Hudson River about 60 miles north of New York City. It is a four-yearfederal service academy originally established as a fort and is one offive service academies in the U.S.\\n\\nCandidates for admission must both apply directly to the academy and receive a nomination.\\n\\nTom Vanden Brook reports from Washington;Peter Kramer and Steve LIeberman reportfor theRockland/Westchester Journal News\\n\\nContributing:The Associated Press\\n\""
   ]
  },
  {
   "cell_type": "code",
   "execution_count": 10,
   "metadata": {},
   "outputs": [
    {
     "name": "stdout",
     "output_type": "stream",
     "text": [
      "\n",
      "\n",
      "WEST POINT, N.Y. A West Point cadet was killed and 20 cadets and two soldiers injured Thursday when a tactical vehicle overturned on a dirt road duringa summer training exercise, according to the U.S. Military Academy.\n",
      "\n",
      "ArmyLt. Col. Christopher Ophardt, an academy spokesman, said theaccident occurred around6:45 a.m. near West Point when the Light Medium Tactical Vehicle rolled.\n",
      "\n",
      "Ophardt could not provide the severity of the injuries or the name of cadet who died. The injured were taken to localhospitals.\n",
      "\n",
      "The incident occurreda dirt road off Route 293 at Camp Natural Bridge, a cadet summer training site near the main campus of the military academy.\n",
      "\n",
      "\n",
      "\n",
      "New York Gov. Andrew Cuomo issued a statement expressing his condolences for the cadet who died and those injured.He directedthe state Office of Emergency Management to provide any resources necessary to assist to assist West Points efforts.\n",
      "\n",
      "My heart breaks for all those involved in the tragic training accident at West Point this morning, Cuomo said. These courageous cadets and soldiers represent the best of New York State and our country, and we owe them a debt of gratitude for their bravery in choosing to serve our country and protect our freedoms.\n",
      "\n",
      "\n",
      "\n",
      "Cuomo said theincident is made all the more heart-wrenching as we commemorate the 75th anniversary of D-Day today, a day where we remember those who gave their lives for our country.\n",
      "\n",
      "West Point is located on the Hudson River about 60 miles north of New York City. It is a four-yearfederal service academy originally established as a fort and is one offive service academies in the U.S.\n",
      "\n",
      "Candidates for admission must both apply directly to the academy and receive a nomination.\n",
      "\n",
      "Tom Vanden Brook reports from Washington;Peter Kramer and Steve LIeberman reportfor theRockland/Westchester Journal News\n",
      "\n",
      "Contributing:The Associated Press\n",
      "\n"
     ]
    }
   ],
   "source": [
    "print(text)"
   ]
  },
  {
   "cell_type": "code",
   "execution_count": 22,
   "metadata": {},
   "outputs": [
    {
     "name": "stdout",
     "output_type": "stream",
     "text": [
      "N.Y. GPE\n",
      "West Point GPE\n",
      "the U.S. Military Academy ORG\n",
      "Christopher Ophardt PERSON\n",
      "West Point GPE\n",
      "the Light Medium Tactical Vehicle FAC\n",
      "Route 293 FAC\n",
      "Camp Natural Bridge FAC\n",
      "New York GPE\n",
      "Andrew Cuomo PERSON\n",
      "Office of Emergency Management ORG\n",
      "West Points GPE\n",
      "West Point GPE\n",
      "Cuomo ORG\n",
      "New York State GPE\n",
      "Cuomo ORG\n",
      "West Point GPE\n",
      "about 60 miles QUANTITY\n",
      "New York City GPE\n",
      "the U.S.\n",
      "\n",
      "Candidates ORG\n",
      "Tom Vanden Brook PERSON\n",
      "Kramer PERSON\n",
      "Steve LIeberman PERSON\n",
      "theRockland/Westchester Journal News\n",
      "\n",
      "Contributing: ORG\n",
      "The Associated Press\n",
      " ORG\n"
     ]
    }
   ],
   "source": [
    "import spacy\n",
    "\n",
    "nlp = spacy.load(\"en_core_web_sm\")\n",
    "\n",
    "doc = nlp(text)\n",
    "\n",
    "labels = ['GPE', 'ORG', 'PERSON', 'QUANTITY', 'FAC']\n",
    "\n",
    "for entity in doc.ents:\n",
    "    if(entity.label_ in labels):\n",
    "        print(entity.text, entity.label_)"
   ]
  },
  {
   "cell_type": "code",
   "execution_count": null,
   "metadata": {},
   "outputs": [],
   "source": []
  }
 ],
 "metadata": {
  "anaconda-cloud": {},
  "kernelspec": {
   "display_name": "Python 3",
   "language": "python",
   "name": "python3"
  },
  "language_info": {
   "codemirror_mode": {
    "name": "ipython",
    "version": 3
   },
   "file_extension": ".py",
   "mimetype": "text/x-python",
   "name": "python",
   "nbconvert_exporter": "python",
   "pygments_lexer": "ipython3",
   "version": "3.7.3"
  }
 },
 "nbformat": 4,
 "nbformat_minor": 1
}
